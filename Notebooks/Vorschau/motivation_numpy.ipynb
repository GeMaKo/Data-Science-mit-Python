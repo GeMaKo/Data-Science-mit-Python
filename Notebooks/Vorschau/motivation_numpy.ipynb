{
 "cells": [
  {
   "cell_type": "code",
   "execution_count": 11,
   "metadata": {},
   "outputs": [],
   "source": [
    "import numpy as np\n",
    "import matplotlib.pyplot as plt"
   ]
  },
  {
   "cell_type": "code",
   "execution_count": 12,
   "metadata": {},
   "outputs": [
    {
     "data": {
      "text/plain": [
       "array([0.58854713, 0.65431469, 0.32240335, ..., 0.53674716, 0.33456353,\n",
       "       0.82058277])"
      ]
     },
     "execution_count": 12,
     "metadata": {},
     "output_type": "execute_result"
    }
   ],
   "source": [
    "x = np.random.rand(10000)\n",
    "x"
   ]
  },
  {
   "cell_type": "code",
   "execution_count": 13,
   "metadata": {},
   "outputs": [
    {
     "data": {
      "text/plain": [
       "(array([ 968.,  983., 1010.,  972.,  994.,  976., 1068., 1003., 1037.,\n",
       "         989.]),\n",
       " array([2.91812689e-05, 1.00018368e-01, 2.00007555e-01, 2.99996742e-01,\n",
       "        3.99985930e-01, 4.99975117e-01, 5.99964304e-01, 6.99953491e-01,\n",
       "        7.99942678e-01, 8.99931865e-01, 9.99921052e-01]),\n",
       " <BarContainer object of 10 artists>)"
      ]
     },
     "execution_count": 13,
     "metadata": {},
     "output_type": "execute_result"
    },
    {
     "data": {
      "image/png": "[encoded data removed]",
      "text/plain": [
       "<Figure size 432x288 with 1 Axes>"
      ]
     },
     "metadata": {
      "needs_background": "light"
     },
     "output_type": "display_data"
    }
   ],
   "source": [
    "plt.hist(x)"
   ]
  },
  {
   "cell_type": "code",
   "execution_count": 14,
   "metadata": {},
   "outputs": [],
   "source": [
    "data = np.random.randint(0, 10, (100, 4))"
   ]
  },
  {
   "cell_type": "code",
   "execution_count": 15,
   "metadata": {
    "scrolled": true
   },
   "outputs": [
    {
     "data": {
      "text/plain": [
       "array([[5, 8, 7, 8],\n",
       "       [4, 5, 3, 6],\n",
       "       [7, 8, 4, 5],\n",
       "       [6, 3, 8, 8],\n",
       "       [7, 7, 5, 4],\n",
       "       [8, 6, 7, 7],\n",
       "       [1, 0, 8, 1],\n",
       "       [0, 9, 0, 8],\n",
       "       [6, 1, 4, 9],\n",
       "       [2, 5, 0, 6],\n",
       "       [8, 6, 6, 2],\n",
       "       [6, 9, 7, 1],\n",
       "       [7, 5, 6, 0],\n",
       "       [8, 7, 4, 4],\n",
       "       [5, 8, 5, 4],\n",
       "       [3, 1, 5, 8],\n",
       "       [9, 3, 4, 7],\n",
       "       [2, 7, 7, 9],\n",
       "       [1, 5, 6, 5],\n",
       "       [9, 8, 7, 5],\n",
       "       [3, 7, 4, 0],\n",
       "       [4, 3, 3, 8],\n",
       "       [1, 5, 9, 0],\n",
       "       [4, 5, 5, 0],\n",
       "       [4, 2, 3, 2],\n",
       "       [0, 5, 7, 8],\n",
       "       [0, 3, 9, 6],\n",
       "       [4, 8, 1, 1],\n",
       "       [9, 1, 0, 5],\n",
       "       [0, 5, 3, 7],\n",
       "       [2, 7, 8, 7],\n",
       "       [2, 0, 2, 1],\n",
       "       [3, 7, 6, 5],\n",
       "       [7, 7, 7, 0],\n",
       "       [7, 3, 3, 5],\n",
       "       [8, 5, 3, 5],\n",
       "       [4, 2, 6, 1],\n",
       "       [4, 3, 7, 0],\n",
       "       [8, 2, 1, 5],\n",
       "       [6, 1, 8, 2],\n",
       "       [6, 5, 2, 2],\n",
       "       [3, 2, 6, 2],\n",
       "       [1, 3, 6, 5],\n",
       "       [1, 5, 1, 4],\n",
       "       [3, 8, 7, 2],\n",
       "       [1, 4, 5, 5],\n",
       "       [3, 7, 7, 2],\n",
       "       [8, 1, 5, 1],\n",
       "       [7, 2, 3, 7],\n",
       "       [7, 9, 0, 9],\n",
       "       [8, 7, 9, 9],\n",
       "       [9, 0, 5, 5],\n",
       "       [1, 1, 6, 1],\n",
       "       [3, 1, 2, 0],\n",
       "       [5, 7, 8, 5],\n",
       "       [1, 5, 6, 9],\n",
       "       [2, 1, 3, 4],\n",
       "       [1, 4, 0, 8],\n",
       "       [4, 8, 0, 7],\n",
       "       [5, 3, 2, 7],\n",
       "       [2, 9, 7, 0],\n",
       "       [6, 5, 0, 6],\n",
       "       [4, 2, 0, 0],\n",
       "       [9, 4, 2, 6],\n",
       "       [5, 9, 3, 6],\n",
       "       [2, 6, 6, 4],\n",
       "       [4, 3, 4, 8],\n",
       "       [0, 3, 8, 1],\n",
       "       [6, 5, 4, 3],\n",
       "       [5, 1, 2, 8],\n",
       "       [1, 4, 9, 4],\n",
       "       [0, 5, 4, 5],\n",
       "       [1, 5, 3, 8],\n",
       "       [9, 0, 0, 8],\n",
       "       [2, 3, 6, 4],\n",
       "       [5, 0, 9, 4],\n",
       "       [3, 5, 8, 3],\n",
       "       [5, 4, 1, 7],\n",
       "       [1, 3, 9, 5],\n",
       "       [5, 5, 9, 1],\n",
       "       [3, 4, 5, 5],\n",
       "       [8, 9, 3, 9],\n",
       "       [3, 0, 1, 1],\n",
       "       [2, 7, 7, 7],\n",
       "       [2, 1, 8, 9],\n",
       "       [3, 1, 8, 1],\n",
       "       [0, 9, 5, 3],\n",
       "       [3, 1, 6, 8],\n",
       "       [9, 2, 5, 7],\n",
       "       [2, 9, 7, 1],\n",
       "       [1, 3, 8, 3],\n",
       "       [6, 1, 5, 0],\n",
       "       [9, 8, 1, 7],\n",
       "       [7, 9, 5, 0],\n",
       "       [9, 3, 6, 1],\n",
       "       [6, 3, 2, 9],\n",
       "       [3, 0, 1, 7],\n",
       "       [5, 5, 9, 8],\n",
       "       [4, 0, 2, 6],\n",
       "       [0, 9, 6, 6]])"
      ]
     },
     "execution_count": 15,
     "metadata": {},
     "output_type": "execute_result"
    }
   ],
   "source": [
    "data"
   ]
  },
  {
   "cell_type": "code",
   "execution_count": 16,
   "metadata": {},
   "outputs": [
    {
     "data": {
      "text/plain": [
       "<matplotlib.collections.PathCollection at 0x7f92b04834c0>"
      ]
     },
     "execution_count": 16,
     "metadata": {},
     "output_type": "execute_result"
    },
    {
     "data": {
      "image/png": "[encoded data removed]",
      "text/plain": [
       "<Figure size 432x288 with 1 Axes>"
      ]
     },
     "metadata": {
      "needs_background": "light"
     },
     "output_type": "display_data"
    }
   ],
   "source": [
    "plt.scatter(x=data[:,0], y=data[:,1], marker=\"o\")"
   ]
  },
  {
   "cell_type": "code",
   "execution_count": 17,
   "metadata": {},
   "outputs": [],
   "source": [
    "test_data = np.array([5,5])  # P(5,5)"
   ]
  },
  {
   "cell_type": "code",
   "execution_count": 18,
   "metadata": {},
   "outputs": [
    {
     "data": {
      "text/plain": [
       "<matplotlib.legend.Legend at 0x7f92c1548910>"
      ]
     },
     "execution_count": 18,
     "metadata": {},
     "output_type": "execute_result"
    },
    {
     "data": {
      "image/png": "[encoded data removed]",
      "text/plain": [
       "<Figure size 432x288 with 1 Axes>"
      ]
     },
     "metadata": {
      "needs_background": "light"
     },
     "output_type": "display_data"
    }
   ],
   "source": [
    "plt.figure()\n",
    "\n",
    "plt.scatter(x=data[:,0], y=data[:,1], marker=\"o\", label=\"data\")\n",
    "plt.scatter(test_data[0], test_data[1], color=\"red\", label=\"test\")\n",
    "plt.legend()"
   ]
  },
  {
   "cell_type": "code",
   "execution_count": 19,
   "metadata": {},
   "outputs": [
    {
     "name": "stdout",
     "output_type": "stream",
     "text": [
      "169 µs ± 13 µs per loop (mean ± std. dev. of 7 runs, 10000 loops each)\n"
     ]
    }
   ],
   "source": [
    "%%timeit\n",
    "import math\n",
    "\n",
    "test_data = np.array([5,5,5,5])\n",
    "distances = []\n",
    "for data_point in data:\n",
    "    distances.append(math.sqrt(\n",
    "        (test_data[0] - data_point[0])**2 + \n",
    "        (test_data[1] - data_point[1])**2 +\n",
    "        (test_data[2] - data_point[2])**2 +\n",
    "        (test_data[3] - data_point[3])**2))\n",
    "    "
   ]
  },
  {
   "cell_type": "code",
   "execution_count": 21,
   "metadata": {},
   "outputs": [
    {
     "name": "stdout",
     "output_type": "stream",
     "text": [
      "84.1 ns ± 3.73 ns per loop (mean ± std. dev. of 7 runs, 10000000 loops each)\n"
     ]
    }
   ],
   "source": [
    "%%timeit\n",
    "import math\n",
    "\n",
    "\n",
    "    "
   ]
  },
  {
   "cell_type": "code",
   "execution_count": 22,
   "metadata": {},
   "outputs": [
    {
     "name": "stdout",
     "output_type": "stream",
     "text": [
      "10.9 µs ± 159 ns per loop (mean ± std. dev. of 7 runs, 100000 loops each)\n"
     ]
    }
   ],
   "source": [
    "%%timeit\n",
    "test_data = np.array([5,5,5,5])\n",
    "np.sqrt(np.sum((data - test_data)**2, axis=1))"
   ]
  },
  {
   "cell_type": "code",
   "execution_count": 23,
   "metadata": {},
   "outputs": [
    {
     "data": {
      "text/html": [
       "<div>\n",
       "<style scoped>\n",
       "    .dataframe tbody tr th:only-of-type {\n",
       "        vertical-align: middle;\n",
       "    }\n",
       "\n",
       "    .dataframe tbody tr th {\n",
       "        vertical-align: top;\n",
       "    }\n",
       "\n",
       "    .dataframe thead th {\n",
       "        text-align: right;\n",
       "    }\n",
       "</style>\n",
       "<table border=\"1\" class=\"dataframe\">\n",
       "  <thead>\n",
       "    <tr style=\"text-align: right;\">\n",
       "      <th></th>\n",
       "      <th>age</th>\n",
       "      <th>income</th>\n",
       "      <th>height</th>\n",
       "      <th>weight</th>\n",
       "      <th>sex</th>\n",
       "    </tr>\n",
       "  </thead>\n",
       "  <tbody>\n",
       "    <tr>\n",
       "      <th>0</th>\n",
       "      <td>5</td>\n",
       "      <td>8</td>\n",
       "      <td>7</td>\n",
       "      <td>8</td>\n",
       "      <td>female</td>\n",
       "    </tr>\n",
       "    <tr>\n",
       "      <th>1</th>\n",
       "      <td>4</td>\n",
       "      <td>5</td>\n",
       "      <td>3</td>\n",
       "      <td>6</td>\n",
       "      <td>female</td>\n",
       "    </tr>\n",
       "    <tr>\n",
       "      <th>2</th>\n",
       "      <td>7</td>\n",
       "      <td>8</td>\n",
       "      <td>4</td>\n",
       "      <td>5</td>\n",
       "      <td>female</td>\n",
       "    </tr>\n",
       "    <tr>\n",
       "      <th>3</th>\n",
       "      <td>6</td>\n",
       "      <td>3</td>\n",
       "      <td>8</td>\n",
       "      <td>8</td>\n",
       "      <td>female</td>\n",
       "    </tr>\n",
       "    <tr>\n",
       "      <th>4</th>\n",
       "      <td>7</td>\n",
       "      <td>7</td>\n",
       "      <td>5</td>\n",
       "      <td>4</td>\n",
       "      <td>female</td>\n",
       "    </tr>\n",
       "    <tr>\n",
       "      <th>...</th>\n",
       "      <td>...</td>\n",
       "      <td>...</td>\n",
       "      <td>...</td>\n",
       "      <td>...</td>\n",
       "      <td>...</td>\n",
       "    </tr>\n",
       "    <tr>\n",
       "      <th>95</th>\n",
       "      <td>6</td>\n",
       "      <td>3</td>\n",
       "      <td>2</td>\n",
       "      <td>9</td>\n",
       "      <td>female</td>\n",
       "    </tr>\n",
       "    <tr>\n",
       "      <th>96</th>\n",
       "      <td>3</td>\n",
       "      <td>0</td>\n",
       "      <td>1</td>\n",
       "      <td>7</td>\n",
       "      <td>female</td>\n",
       "    </tr>\n",
       "    <tr>\n",
       "      <th>97</th>\n",
       "      <td>5</td>\n",
       "      <td>5</td>\n",
       "      <td>9</td>\n",
       "      <td>8</td>\n",
       "      <td>female</td>\n",
       "    </tr>\n",
       "    <tr>\n",
       "      <th>98</th>\n",
       "      <td>4</td>\n",
       "      <td>0</td>\n",
       "      <td>2</td>\n",
       "      <td>6</td>\n",
       "      <td>female</td>\n",
       "    </tr>\n",
       "    <tr>\n",
       "      <th>99</th>\n",
       "      <td>0</td>\n",
       "      <td>9</td>\n",
       "      <td>6</td>\n",
       "      <td>6</td>\n",
       "      <td>female</td>\n",
       "    </tr>\n",
       "  </tbody>\n",
       "</table>\n",
       "<p>100 rows × 5 columns</p>\n",
       "</div>"
      ],
      "text/plain": [
       "    age  income  height  weight     sex\n",
       "0     5       8       7       8  female\n",
       "1     4       5       3       6  female\n",
       "2     7       8       4       5  female\n",
       "3     6       3       8       8  female\n",
       "4     7       7       5       4  female\n",
       "..  ...     ...     ...     ...     ...\n",
       "95    6       3       2       9  female\n",
       "96    3       0       1       7  female\n",
       "97    5       5       9       8  female\n",
       "98    4       0       2       6  female\n",
       "99    0       9       6       6  female\n",
       "\n",
       "[100 rows x 5 columns]"
      ]
     },
     "execution_count": 23,
     "metadata": {},
     "output_type": "execute_result"
    }
   ],
   "source": [
    "import pandas as pd\n",
    "\n",
    "df = pd.DataFrame(data, columns=[\"age\",\"income\",\"height\",\"weight\"])\n",
    "df[\"sex\"] = \"female\"\n",
    "df"
   ]
  },
  {
   "cell_type": "code",
   "execution_count": 24,
   "metadata": {},
   "outputs": [
    {
     "data": {
      "text/plain": [
       "array([[5, 8, 7, 8, 'female'],\n",
       "       [4, 5, 3, 6, 'female'],\n",
       "       [7, 8, 4, 5, 'female'],\n",
       "       [6, 3, 8, 8, 'female'],\n",
       "       [7, 7, 5, 4, 'female'],\n",
       "       [8, 6, 7, 7, 'female'],\n",
       "       [1, 0, 8, 1, 'female'],\n",
       "       [0, 9, 0, 8, 'female'],\n",
       "       [6, 1, 4, 9, 'female'],\n",
       "       [2, 5, 0, 6, 'female'],\n",
       "       [8, 6, 6, 2, 'female'],\n",
       "       [6, 9, 7, 1, 'female'],\n",
       "       [7, 5, 6, 0, 'female'],\n",
       "       [8, 7, 4, 4, 'female'],\n",
       "       [5, 8, 5, 4, 'female'],\n",
       "       [3, 1, 5, 8, 'female'],\n",
       "       [9, 3, 4, 7, 'female'],\n",
       "       [2, 7, 7, 9, 'female'],\n",
       "       [1, 5, 6, 5, 'female'],\n",
       "       [9, 8, 7, 5, 'female'],\n",
       "       [3, 7, 4, 0, 'female'],\n",
       "       [4, 3, 3, 8, 'female'],\n",
       "       [1, 5, 9, 0, 'female'],\n",
       "       [4, 5, 5, 0, 'female'],\n",
       "       [4, 2, 3, 2, 'female'],\n",
       "       [0, 5, 7, 8, 'female'],\n",
       "       [0, 3, 9, 6, 'female'],\n",
       "       [4, 8, 1, 1, 'female'],\n",
       "       [9, 1, 0, 5, 'female'],\n",
       "       [0, 5, 3, 7, 'female'],\n",
       "       [2, 7, 8, 7, 'female'],\n",
       "       [2, 0, 2, 1, 'female'],\n",
       "       [3, 7, 6, 5, 'female'],\n",
       "       [7, 7, 7, 0, 'female'],\n",
       "       [7, 3, 3, 5, 'female'],\n",
       "       [8, 5, 3, 5, 'female'],\n",
       "       [4, 2, 6, 1, 'female'],\n",
       "       [4, 3, 7, 0, 'female'],\n",
       "       [8, 2, 1, 5, 'female'],\n",
       "       [6, 1, 8, 2, 'female'],\n",
       "       [6, 5, 2, 2, 'female'],\n",
       "       [3, 2, 6, 2, 'female'],\n",
       "       [1, 3, 6, 5, 'female'],\n",
       "       [1, 5, 1, 4, 'female'],\n",
       "       [3, 8, 7, 2, 'female'],\n",
       "       [1, 4, 5, 5, 'female'],\n",
       "       [3, 7, 7, 2, 'female'],\n",
       "       [8, 1, 5, 1, 'female'],\n",
       "       [7, 2, 3, 7, 'female'],\n",
       "       [7, 9, 0, 9, 'female'],\n",
       "       [8, 7, 9, 9, 'female'],\n",
       "       [9, 0, 5, 5, 'female'],\n",
       "       [1, 1, 6, 1, 'female'],\n",
       "       [3, 1, 2, 0, 'female'],\n",
       "       [5, 7, 8, 5, 'female'],\n",
       "       [1, 5, 6, 9, 'female'],\n",
       "       [2, 1, 3, 4, 'female'],\n",
       "       [1, 4, 0, 8, 'female'],\n",
       "       [4, 8, 0, 7, 'female'],\n",
       "       [5, 3, 2, 7, 'female'],\n",
       "       [2, 9, 7, 0, 'female'],\n",
       "       [6, 5, 0, 6, 'female'],\n",
       "       [4, 2, 0, 0, 'female'],\n",
       "       [9, 4, 2, 6, 'female'],\n",
       "       [5, 9, 3, 6, 'female'],\n",
       "       [2, 6, 6, 4, 'female'],\n",
       "       [4, 3, 4, 8, 'female'],\n",
       "       [0, 3, 8, 1, 'female'],\n",
       "       [6, 5, 4, 3, 'female'],\n",
       "       [5, 1, 2, 8, 'female'],\n",
       "       [1, 4, 9, 4, 'female'],\n",
       "       [0, 5, 4, 5, 'female'],\n",
       "       [1, 5, 3, 8, 'female'],\n",
       "       [9, 0, 0, 8, 'female'],\n",
       "       [2, 3, 6, 4, 'female'],\n",
       "       [5, 0, 9, 4, 'female'],\n",
       "       [3, 5, 8, 3, 'female'],\n",
       "       [5, 4, 1, 7, 'female'],\n",
       "       [1, 3, 9, 5, 'female'],\n",
       "       [5, 5, 9, 1, 'female'],\n",
       "       [3, 4, 5, 5, 'female'],\n",
       "       [8, 9, 3, 9, 'female'],\n",
       "       [3, 0, 1, 1, 'female'],\n",
       "       [2, 7, 7, 7, 'female'],\n",
       "       [2, 1, 8, 9, 'female'],\n",
       "       [3, 1, 8, 1, 'female'],\n",
       "       [0, 9, 5, 3, 'female'],\n",
       "       [3, 1, 6, 8, 'female'],\n",
       "       [9, 2, 5, 7, 'female'],\n",
       "       [2, 9, 7, 1, 'female'],\n",
       "       [1, 3, 8, 3, 'female'],\n",
       "       [6, 1, 5, 0, 'female'],\n",
       "       [9, 8, 1, 7, 'female'],\n",
       "       [7, 9, 5, 0, 'female'],\n",
       "       [9, 3, 6, 1, 'female'],\n",
       "       [6, 3, 2, 9, 'female'],\n",
       "       [3, 0, 1, 7, 'female'],\n",
       "       [5, 5, 9, 8, 'female'],\n",
       "       [4, 0, 2, 6, 'female'],\n",
       "       [0, 9, 6, 6, 'female']], dtype=object)"
      ]
     },
     "execution_count": 24,
     "metadata": {},
     "output_type": "execute_result"
    }
   ],
   "source": [
    "df.values"
   ]
  },
  {
   "cell_type": "code",
   "execution_count": null,
   "metadata": {},
   "outputs": [],
   "source": []
  }
 ],
 "metadata": {
  "kernelspec": {
   "display_name": "Python 3 (ipykernel)",
   "language": "python",
   "name": "python3"
  },
  "language_info": {
   "codemirror_mode": {
    "name": "ipython",
    "version": 3
   },
   "file_extension": ".py",
   "mimetype": "text/x-python",
   "name": "python",
   "nbconvert_exporter": "python",
   "pygments_lexer": "ipython3",
   "version": "3.8.12"
  }
 },
 "nbformat": 4,
 "nbformat_minor": 4
}
